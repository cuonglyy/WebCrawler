{
 "cells": [
  {
   "cell_type": "code",
   "execution_count": 1,
   "metadata": {},
   "outputs": [],
   "source": [
    "%matplotlib inline\n",
    "import matplotlib\n",
    "import numpy as np\n",
    "import matplotlib.pyplot as plt\n",
    "from bs4 import BeautifulSoup\n",
    "from collections import deque\n",
    "from urllib import request, parse"
   ]
  },
  {
   "cell_type": "code",
   "execution_count": 2,
   "metadata": {},
   "outputs": [],
   "source": [
    "queue = deque([])\n",
    "crawledList = []\n",
    "LINK_LIMIT = 3650\n",
    "\n",
    "def BFSWebCrawler(url):\n",
    "    crawledList.append(url)\n",
    "    # print(len(queue))\n",
    "    if len(queue) >= LINK_LIMIT:\n",
    "        return\n",
    "    # print(\"Crawling: \", url)  # Prints the url entered by user\n",
    "    # returns back a request and takes care of 403 error\n",
    "    req = request.Request(url, headers={'User-Agent': 'Mozilla/5.0'})\n",
    "    html = request.urlopen(req).read()  # Creates the html document\n",
    "    soup = BeautifulSoup(html, \"html.parser\")  # Parses the html into an object\n",
    "    for a_tag in soup.findAll('a'):  # Finds all a tags\n",
    "        crawledFlag = False\n",
    "        if a_tag.has_attr('href'):  # The following execute only if a_tag has an href\n",
    "            href = a_tag['href']  # Extracts href\n",
    "            full_url = parse.urljoin(url, href)\n",
    "            for links in queue:\n",
    "                if links == full_url:\n",
    "                    crawledFlag = True\n",
    "                    break\n",
    "            if not crawledFlag:\n",
    "                # print(len(queue))\n",
    "                if len(queue) >= LINK_LIMIT:\n",
    "                    return\n",
    "                if crawledList.count(full_url) == 0:\n",
    "                    # print(\"appended\", full_url)\n",
    "                    queue.append(full_url)\n",
    "                # else:\n",
    "                #     print(\"NOT ADDED\", full_url)\n",
    "    n = queue.popleft()\n",
    "    # print(\"POPPED\", n)\n",
    "    BFSWebCrawler(n)"
   ]
  },
  {
   "cell_type": "code",
   "execution_count": 3,
   "metadata": {
    "scrolled": false
   },
   "outputs": [
    {
     "name": "stdout",
     "output_type": "stream",
     "text": [
      "Enter Url to Crawl: https://www.investopedia.com/\n",
      "URLS Crawled: \n",
      "https://www.investopedia.com/\n",
      "https://www.investopedia.com/financial-term-dictionary-4769738\n",
      "https://www.investopedia.com/economy-4689801\n",
      "https://www.investopedia.com/corporate-finance-and-accounting-4689821\n",
      "https://www.investopedia.com/terms/r/rothira.asp\n",
      "https://www.investopedia.com/stocks-4427785\n",
      "https://www.investopedia.com/mutual-funds-4427787\n",
      "https://www.investopedia.com/terms/e/etf.asp\n",
      "https://www.investopedia.com/terms/1/401kplan.asp\n",
      "https://www.investopedia.com/investing-essentials-4689754\n",
      "https://www.investopedia.com/fundamental-analysis-4689757\n",
      "https://www.investopedia.com/portfolio-management-4689745\n",
      "https://www.investopedia.com/trading-skills-and-essentials-4689654\n",
      "https://www.investopedia.com/technical-analysis-4689657\n",
      "https://www.investopedia.com/risk-management-4689652\n",
      "https://www.investopedia.com/markets/\n",
      "https://www.investopedia.com/company-news-4427705\n",
      "https://www.investopedia.com/markets-news-4427704\n",
      "https://www.investopedia.com/trading-news-4689736\n",
      "https://www.investopedia.com/political-news-4689737\n",
      "https://www.investopedia.com/trends-4689735\n",
      "https://www.investopedia.com/markets/stocks/aapl/\n",
      "https://www.investopedia.com/markets/stocks/tsla/\n",
      "https://www.investopedia.com/markets/stocks/amzn/\n",
      "https://www.investopedia.com/markets/stocks/amd/\n",
      "https://www.investopedia.com/markets/stocks/fb/\n",
      "https://www.investopedia.com/markets/stocks/nflx/\n",
      "https://www.investopedia.com/simulator/\n",
      "https://www.investopedia.com/simulator/game/listgames.aspx\n",
      "https://www.investopedia.com/simulator/game/\n",
      "https://www.investopedia.com/simulator/game/creategame.aspx\n",
      "https://www.investopedia.com/personal-finance-4427760\n",
      "https://www.investopedia.com/wealth-4689687\n",
      "https://www.investopedia.com/budgeting-and-savings-4427755\n",
      "https://www.investopedia.com/banking-4427754\n",
      "https://www.investopedia.com/credit-card-4689721\n",
      "https://www.investopedia.com/home-ownership-4689706\n",
      "https://www.investopedia.com/retirement-planning-4689695\n",
      "https://www.investopedia.com/taxes-4427724\n",
      "https://www.investopedia.com/insurance-4427716\n",
      "https://www.investopedia.com/best-online-brokers-4587872\n",
      "https://www.investopedia.com/best-brokers-for-beginners-4587873\n",
      "https://www.investopedia.com/best-brokers-for-roth-iras-4587878\n",
      "https://www.investopedia.com/best-web-trading-platforms-4587883\n",
      "https://www.investopedia.com/best-robo-advisors-4693125\n",
      "https://www.investopedia.com/wealthfront-vs-betterment-4587963\n",
      "https://www.investopedia.com/betterment-vs-vanguard-4694255\n",
      "https://www.investopedia.com/wealthfront-vs-vanguard-4693481\n",
      "https://www.investopedia.com/financial-advisor-4427709\n",
      "https://www.investopedia.com/practice-management-4689784\n",
      "https://www.investopedia.com/continuing-education-4689788\n",
      "https://www.investopedia.com/financial-advisor-careers-4689786\n",
      "https://www.investopedia.com/top-100-financial-advisors/\n",
      "https://www.investopedia.com/portfolio-construction-4689785\n",
      "https://www.investopedia.com/financial-planning-4427750\n",
      "https://academy.investopedia.com/?aca_ref=header_home_link_1\n",
      "https://academy.investopedia.com/products/investing-for-beginners?aca_ref=header_latest_1\n",
      "https://academy.investopedia.com/products/become-a-day-trader?aca_ref=header_course_1\n",
      "https://academy.investopedia.com/products/trading-for-beginners?aca_ref=header_course_1\n",
      "https://academy.investopedia.com/products/technical-analysis?aca_ref=header_course_1\n",
      "https://academy.investopedia.com/?aca_ref=header_latest_1\n",
      "https://academy.investopedia.com/collections/trading-courses-collection?aca_ref=header_latest_1\n",
      "https://academy.investopedia.com/collections/investing-courses-catalog?aca_ref=header_latest_1\n",
      "https://academy.investopedia.com/collections/finance-courses?aca_ref=header_latest_1\n",
      "https://www.investopedia.com/bitcoin-halving-4843769\n",
      "https://www.investopedia.com/bank-of-england-predicts-worst-contraction-since-1706-4844284\n",
      "https://www.investopedia.com/terms/e/earningsreport.asp\n",
      "https://www.investopedia.com/best-cd-rates-4770214\n",
      "https://www.investopedia.com/best-credit-cards-4801582\n",
      "https://www.investopedia.com/government-stimulus-efforts-to-fight-the-covid-19-crisis-4799723\n",
      "https://www.investopedia.com/best-high-yield-savings-accounts-4770633\n",
      "https://www.investopedia.com/terms/f/fixedincome.asp\n",
      "https://www.investopedia.com/simulator\n",
      "https://academy.investopedia.com/\n",
      "https://link.investopedia.com/join/53o/00-homepage-marketsum\n",
      "http://sponsored.investopedia.com/collection-plus/investing-2020-future-of-finance\n",
      "https://www.investopedia.com/terms/a/annuity.asp\n",
      "https://www.investopedia.com/special-features/\n",
      "https://www.investopedia.com/how-to-calculate-return-on-investment-roi-4184798\n",
      "https://www.investopedia.com/performance-chasing-can-cost-you-4581759\n",
      "https://www.investopedia.com/video/play/ray-dalio-his-portfolio-holy-grail/\n",
      "https://www.investopedia.com/terms/c/candlestick.asp\n",
      "https://link.investopedia.com/join/53o/00-house-tod\n",
      "https://www.investopedia.com/terms/s/systematicrisk.asp\n",
      "https://www.investopedia.com/terms/m/movingaverage.asp\n",
      "https://www.investopedia.com/terms/e/earningsestimate.asp\n",
      "https://www.investopedia.com/terms/g/globalization.asp\n",
      "https://www.investopedia.com/main-street-lending-program-4802310\n",
      "https://www.investopedia.com/terms/s/sell-in-may-and-go-away.asp\n",
      "https://www.facebook.com/Investopedia/\n",
      "https://twitter.com/investopedia\n"
     ]
    }
   ],
   "source": [
    "user_url = input(\"Enter Url to Crawl: \")\n",
    "BFSWebCrawler(user_url)\n",
    "print(\"URLS Crawled: \")\n",
    "for urls in crawledList:\n",
    "    print(urls)"
   ]
  },
  {
   "cell_type": "code",
   "execution_count": 4,
   "metadata": {},
   "outputs": [],
   "source": [
    "import timeit\n",
    "from random import choice\n",
    "\n",
    "def createGraph(func, trials=10):\n",
    "    nVal = []\n",
    "    tVal = []\n",
    "    for i in range(0, len(crawledList), 1):\n",
    "        for j in range(trials):\n",
    "            runtime = 0\n",
    "            url = [choice(crawledList) for n in range(i)]\n",
    "            start = timeit.default_timer()\n",
    "            func(url)\n",
    "            end = timeit.default_timer()\n",
    "            runtime += (end - start) * 1000\n",
    "        runtime = runtime/trials\n",
    "        nVal.append(i)\n",
    "        tVal.append(runtime)\n",
    "\n",
    "    print(nVal)\n",
    "    print(tVal)\n",
    "    return nVal, tVal"
   ]
  },
  {
   "cell_type": "code",
   "execution_count": 5,
   "metadata": {
    "scrolled": true
   },
   "outputs": [
    {
     "name": "stdout",
     "output_type": "stream",
     "text": [
      "[0, 1, 2, 3, 4, 5, 6, 7, 8, 9, 10, 11, 12, 13, 14, 15, 16, 17, 18, 19, 20, 21, 22, 23, 24, 25, 26, 27, 28, 29, 30, 31, 32, 33, 34, 35, 36, 37, 38, 39, 40, 41, 42, 43, 44, 45, 46, 47, 48, 49, 50, 51, 52, 53, 54, 55, 56, 57, 58, 59, 60, 61, 62, 63, 64, 65, 66, 67, 68, 69, 70, 71, 72, 73, 74, 75, 76, 77, 78, 79, 80, 81, 82, 83, 84, 85, 86, 87, 88, 89, 90]\n",
      "[2.9999999640040187e-05, 2.000000023372195e-05, 3.0000000350582923e-05, 2.9999999640040187e-05, 2.9999999640040187e-05, 2.9999999640040187e-05, 3.0000000350582923e-05, 2.9999999640040187e-05, 2.9999999640040187e-05, 2.9999999640040187e-05, 1.9999999523179213e-05, 2.000000023372195e-05, 3.0000000350582923e-05, 2.9999999640040187e-05, 3.0000000350582923e-05, 2.9999999640040187e-05, 1.9999999523179213e-05, 2.000000023372195e-05, 2.9999999640040187e-05, 3.0000000350582923e-05, 2.9999999640040187e-05, 4.9999999873762135e-05, 2.000000023372195e-05, 0.00012999999938756446, 2.9999999640040187e-05, 3.0000000350582923e-05, 2.000000023372195e-05, 2.000000023372195e-05, 3.0000000350582923e-05, 2.000000023372195e-05, 2.000000023372195e-05, 3.0000000350582923e-05, 2.9999999640040187e-05, 2.9999999640040187e-05, 1.9999999523179213e-05, 2.9999999640040187e-05, 2.000000023372195e-05, 3.0000000350582923e-05, 3.0000000350582923e-05, 3.999999975690116e-05, 3.0000000350582923e-05, 3.999999975690116e-05, 2.000000023372195e-05, 5.000000058430487e-05, 4.9999999873762135e-05, 3.0000000350582923e-05, 2.9999999640040187e-05, 2.9999999640040187e-05, 7.999999951380232e-05, 3.0000000350582923e-05, 2.000000023372195e-05, 5.999999999062311e-05, 2.9999999640040187e-05, 3.999999975690116e-05, 3.0000000350582923e-05, 1.9999999523179213e-05, 2.9999999640040187e-05, 2.9999999640040187e-05, 3.0000000350582923e-05, 2.9999999640040187e-05, 2.9999999640040187e-05, 2.9999999640040187e-05, 2.9999999640040187e-05, 3.0000000350582923e-05, 2.9999999640040187e-05, 4.9999999873762135e-05, 4.9999999873762135e-05, 3.0000000350582923e-05, 3.0000000350582923e-05, 2.9999999640040187e-05, 2.9999999640040187e-05, 2.9999999640040187e-05, 2.9999999640040187e-05, 5.999999999062311e-05, 2.9999999640040187e-05, 0.00011999999998124622, 4.9999999873762135e-05, 3.999999975690116e-05, 4.9999999873762135e-05, 5.000000058430487e-05, 8.99999996306633e-05, 4.9999999873762135e-05, 5.999999999062311e-05, 4.9999999873762135e-05, 4.00000004674439e-05, 4.9999999873762135e-05, 4.00000004674439e-05, 3.0000000350582923e-05, 3.0000000350582923e-05, 0.0004400000001680837, 2.9999999640040187e-05]\n"
     ]
    }
   ],
   "source": [
    "nVal1, tVal1 = createGraph(BFSWebCrawler, trials=10)"
   ]
  },
  {
   "cell_type": "code",
   "execution_count": 6,
   "metadata": {},
   "outputs": [],
   "source": [
    "def bestFit(X,Y):\n",
    "    xbar = sum(X)/len(X)\n",
    "    ybar = sum(Y)/len(Y)\n",
    "    n = len(X)\n",
    "    \n",
    "    numer = sum(xi*yi for xi, yi in zip(X,Y)) - n * xbar * ybar\n",
    "    denum = sum(xi**2 for xi in X) - n * xbar**2\n",
    "    \n",
    "    b = numer / denum\n",
    "    a = ybar - b * xbar\n",
    "    \n",
    "    return a, b"
   ]
  },
  {
   "cell_type": "code",
   "execution_count": 7,
   "metadata": {},
   "outputs": [
    {
     "data": {
      "text/plain": [
       "Text(0.5, 1.0, 'BFSWebCrawler Time Complexity')"
      ]
     },
     "execution_count": 7,
     "metadata": {},
     "output_type": "execute_result"
    },
    {
     "data": {
      "image/png": "[encoded data removed]",
      "text/plain": [
       "<Figure size 432x288 with 1 Axes>"
      ]
     },
     "metadata": {
      "needs_background": "light"
     },
     "output_type": "display_data"
    }
   ],
   "source": [
    "nVal, tVal = bestFit(nVal1, tVal1)\n",
    "yfit = [nVal + tVal * xi for xi in nVal1]\n",
    "\n",
    "plt.plot(nVal1, tVal1, color=\"blue\", label=\"Link 1\")\n",
    "plt.plot(nVal1, yfit, color = \"red\", label = \"Best Fit Line\")\n",
    "plt.xlabel('n')\n",
    "plt.ylabel(\"Time(ms)\")\n",
    "plt.legend()\n",
    "plt.title(\"BFSWebCrawler Time Complexity\")"
   ]
  },
  {
   "cell_type": "code",
   "execution_count": null,
   "metadata": {},
   "outputs": [],
   "source": []
  }
 ],
 "metadata": {
  "kernelspec": {
   "display_name": "Python 3",
   "language": "python",
   "name": "python3"
  },
  "language_info": {
   "codemirror_mode": {
    "name": "ipython",
    "version": 3
   },
   "file_extension": ".py",
   "mimetype": "text/x-python",
   "name": "python",
   "nbconvert_exporter": "python",
   "pygments_lexer": "ipython3",
   "version": "3.7.4"
  }
 },
 "nbformat": 4,
 "nbformat_minor": 4
}
